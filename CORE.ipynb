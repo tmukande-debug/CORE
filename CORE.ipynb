{
  "nbformat": 4,
  "nbformat_minor": 0,
  "metadata": {
    "colab": {
      "provenance": [],
      "authorship_tag": "ABX9TyM4jCv61hTny6dx94wxIONO",
      "include_colab_link": true
    },
    "kernelspec": {
      "name": "python3",
      "display_name": "Python 3"
    },
    "language_info": {
      "name": "python"
    }
  },
  "cells": [
    {
      "cell_type": "markdown",
      "metadata": {
        "id": "view-in-github",
        "colab_type": "text"
      },
      "source": [
        "<a href=\"https://colab.research.google.com/github/tmukande-debug/CORE/blob/master/CORE.ipynb\" target=\"_parent\"><img src=\"https://colab.research.google.com/assets/colab-badge.svg\" alt=\"Open In Colab\"/></a>"
      ]
    },
    {
      "cell_type": "code",
      "execution_count": 1,
      "metadata": {
        "colab": {
          "base_uri": "https://localhost:8080/"
        },
        "id": "ZGT2Vl-9lZWx",
        "outputId": "3761edeb-826d-4b39-e3f3-245d3a84994f"
      },
      "outputs": [
        {
          "output_type": "stream",
          "name": "stdout",
          "text": [
            "Cloning into 'CORE'...\n",
            "remote: Enumerating objects: 27, done.\u001b[K\n",
            "remote: Counting objects: 100% (27/27), done.\u001b[K\n",
            "remote: Compressing objects: 100% (26/26), done.\u001b[K\n",
            "remote: Total 27 (delta 7), reused 13 (delta 0), pack-reused 0\u001b[K\n",
            "Unpacking objects: 100% (27/27), 207.39 KiB | 3.91 MiB/s, done.\n"
          ]
        }
      ],
      "source": [
        "!git clone https://github.com/tmukande-debug/CORE"
      ]
    },
    {
      "cell_type": "code",
      "source": [
        "%cd CORE/"
      ],
      "metadata": {
        "colab": {
          "base_uri": "https://localhost:8080/"
        },
        "id": "J-ejCOcIm2CN",
        "outputId": "4466e44d-c7f6-4d80-ee50-31d92911839f"
      },
      "execution_count": 2,
      "outputs": [
        {
          "output_type": "stream",
          "name": "stdout",
          "text": [
            "/content/CORE\n"
          ]
        }
      ]
    },
    {
      "cell_type": "code",
      "source": [
        "!pip install recbole==1.0.1"
      ],
      "metadata": {
        "id": "pZ822xr0mk4l"
      },
      "execution_count": null,
      "outputs": []
    },
    {
      "cell_type": "code",
      "source": [
        "%cd dataset/"
      ],
      "metadata": {
        "colab": {
          "base_uri": "https://localhost:8080/"
        },
        "id": "wPjndT9go1IS",
        "outputId": "06c3b843-004c-4155-8fe1-20433267318e"
      },
      "execution_count": 24,
      "outputs": [
        {
          "output_type": "stream",
          "name": "stdout",
          "text": [
            "/content/CORE/dataset\n"
          ]
        }
      ]
    },
    {
      "cell_type": "code",
      "source": [
        "!unzip tmall.zip"
      ],
      "metadata": {
        "id": "uLZZbiimn1yJ"
      },
      "execution_count": null,
      "outputs": []
    },
    {
      "cell_type": "code",
      "source": [
        "%cd /content/CORE/"
      ],
      "metadata": {
        "id": "pJiGwTWTpT5C"
      },
      "execution_count": null,
      "outputs": []
    },
    {
      "cell_type": "code",
      "source": [
        "!python main.py --model trm --dataset tmall"
      ],
      "metadata": {
        "colab": {
          "base_uri": "https://localhost:8080/"
        },
        "id": "V9x-0pv_o7cd",
        "outputId": "011caee0-a459-4fe8-aeb8-bffb6565d200"
      },
      "execution_count": 23,
      "outputs": [
        {
          "output_type": "stream",
          "name": "stdout",
          "text": [
            "command line args [--model trm --dataset tmall] will not be used in RecBole\n",
            "09 Mar 18:38    INFO  \n",
            "\u001b[1;35mGeneral Hyper Parameters:\n",
            "\u001b[0m\u001b[1;36mgpu_id\u001b[0m =\u001b[1;33m 0\u001b[0m\n",
            "\u001b[1;36muse_gpu\u001b[0m =\u001b[1;33m True\u001b[0m\n",
            "\u001b[1;36mseed\u001b[0m =\u001b[1;33m 2020\u001b[0m\n",
            "\u001b[1;36mstate\u001b[0m =\u001b[1;33m INFO\u001b[0m\n",
            "\u001b[1;36mreproducibility\u001b[0m =\u001b[1;33m True\u001b[0m\n",
            "\u001b[1;36mdata_path\u001b[0m =\u001b[1;33m dataset/tmall\u001b[0m\n",
            "\u001b[1;36mcheckpoint_dir\u001b[0m =\u001b[1;33m saved\u001b[0m\n",
            "\u001b[1;36mshow_progress\u001b[0m =\u001b[1;33m True\u001b[0m\n",
            "\u001b[1;36msave_dataset\u001b[0m =\u001b[1;33m False\u001b[0m\n",
            "\u001b[1;36mdataset_save_path\u001b[0m =\u001b[1;33m None\u001b[0m\n",
            "\u001b[1;36msave_dataloaders\u001b[0m =\u001b[1;33m False\u001b[0m\n",
            "\u001b[1;36mdataloaders_save_path\u001b[0m =\u001b[1;33m None\u001b[0m\n",
            "\u001b[1;36mlog_wandb\u001b[0m =\u001b[1;33m False\u001b[0m\n",
            "\n",
            "\u001b[1;35mTraining Hyper Parameters:\n",
            "\u001b[0m\u001b[1;36mepochs\u001b[0m =\u001b[1;33m 300\u001b[0m\n",
            "\u001b[1;36mtrain_batch_size\u001b[0m =\u001b[1;33m 2048\u001b[0m\n",
            "\u001b[1;36mlearner\u001b[0m =\u001b[1;33m adam\u001b[0m\n",
            "\u001b[1;36mlearning_rate\u001b[0m =\u001b[1;33m 0.001\u001b[0m\n",
            "\u001b[1;36mneg_sampling\u001b[0m =\u001b[1;33m None\u001b[0m\n",
            "\u001b[1;36meval_step\u001b[0m =\u001b[1;33m 1\u001b[0m\n",
            "\u001b[1;36mstopping_step\u001b[0m =\u001b[1;33m 5\u001b[0m\n",
            "\u001b[1;36mclip_grad_norm\u001b[0m =\u001b[1;33m None\u001b[0m\n",
            "\u001b[1;36mweight_decay\u001b[0m =\u001b[1;33m 0.0\u001b[0m\n",
            "\u001b[1;36mloss_decimal_place\u001b[0m =\u001b[1;33m 4\u001b[0m\n",
            "\n",
            "\u001b[1;35mEvaluation Hyper Parameters:\n",
            "\u001b[0m\u001b[1;36meval_args\u001b[0m =\u001b[1;33m {'order': 'TO', 'split': {'RS': [0.8, 0.1, 0.1]}, 'group_by': 'user', 'mode': 'full'}\u001b[0m\n",
            "\u001b[1;36mrepeatable\u001b[0m =\u001b[1;33m True\u001b[0m\n",
            "\u001b[1;36mmetrics\u001b[0m =\u001b[1;33m ['Recall', 'MRR']\u001b[0m\n",
            "\u001b[1;36mtopk\u001b[0m =\u001b[1;33m [10, 20]\u001b[0m\n",
            "\u001b[1;36mvalid_metric\u001b[0m =\u001b[1;33m MRR@20\u001b[0m\n",
            "\u001b[1;36mvalid_metric_bigger\u001b[0m =\u001b[1;33m True\u001b[0m\n",
            "\u001b[1;36meval_batch_size\u001b[0m =\u001b[1;33m 2048\u001b[0m\n",
            "\u001b[1;36mmetric_decimal_place\u001b[0m =\u001b[1;33m 4\u001b[0m\n",
            "\n",
            "\u001b[1;35mDataset Hyper Parameters:\n",
            "\u001b[0m\u001b[1;36mfield_separator\u001b[0m =\u001b[1;33m \t\u001b[0m\n",
            "\u001b[1;36mseq_separator\u001b[0m =\u001b[1;33m  \u001b[0m\n",
            "\u001b[1;36mUSER_ID_FIELD\u001b[0m =\u001b[1;33m session_id\u001b[0m\n",
            "\u001b[1;36mITEM_ID_FIELD\u001b[0m =\u001b[1;33m item_id\u001b[0m\n",
            "\u001b[1;36mRATING_FIELD\u001b[0m =\u001b[1;33m rating\u001b[0m\n",
            "\u001b[1;36mTIME_FIELD\u001b[0m =\u001b[1;33m timestamp\u001b[0m\n",
            "\u001b[1;36mseq_len\u001b[0m =\u001b[1;33m None\u001b[0m\n",
            "\u001b[1;36mLABEL_FIELD\u001b[0m =\u001b[1;33m label\u001b[0m\n",
            "\u001b[1;36mthreshold\u001b[0m =\u001b[1;33m None\u001b[0m\n",
            "\u001b[1;36mNEG_PREFIX\u001b[0m =\u001b[1;33m neg_\u001b[0m\n",
            "\u001b[1;36mload_col\u001b[0m =\u001b[1;33m {'inter': ['session_id', 'item_id_list', 'item_id']}\u001b[0m\n",
            "\u001b[1;36munload_col\u001b[0m =\u001b[1;33m None\u001b[0m\n",
            "\u001b[1;36munused_col\u001b[0m =\u001b[1;33m None\u001b[0m\n",
            "\u001b[1;36madditional_feat_suffix\u001b[0m =\u001b[1;33m None\u001b[0m\n",
            "\u001b[1;36mrm_dup_inter\u001b[0m =\u001b[1;33m None\u001b[0m\n",
            "\u001b[1;36mval_interval\u001b[0m =\u001b[1;33m None\u001b[0m\n",
            "\u001b[1;36mfilter_inter_by_user_or_item\u001b[0m =\u001b[1;33m True\u001b[0m\n",
            "\u001b[1;36muser_inter_num_interval\u001b[0m =\u001b[1;33m [0,inf)\u001b[0m\n",
            "\u001b[1;36mitem_inter_num_interval\u001b[0m =\u001b[1;33m [0,inf)\u001b[0m\n",
            "\u001b[1;36malias_of_user_id\u001b[0m =\u001b[1;33m None\u001b[0m\n",
            "\u001b[1;36malias_of_item_id\u001b[0m =\u001b[1;33m ['item_id_list']\u001b[0m\n",
            "\u001b[1;36malias_of_entity_id\u001b[0m =\u001b[1;33m None\u001b[0m\n",
            "\u001b[1;36malias_of_relation_id\u001b[0m =\u001b[1;33m None\u001b[0m\n",
            "\u001b[1;36mpreload_weight\u001b[0m =\u001b[1;33m None\u001b[0m\n",
            "\u001b[1;36mnormalize_field\u001b[0m =\u001b[1;33m None\u001b[0m\n",
            "\u001b[1;36mnormalize_all\u001b[0m =\u001b[1;33m None\u001b[0m\n",
            "\u001b[1;36mITEM_LIST_LENGTH_FIELD\u001b[0m =\u001b[1;33m item_length\u001b[0m\n",
            "\u001b[1;36mLIST_SUFFIX\u001b[0m =\u001b[1;33m _list\u001b[0m\n",
            "\u001b[1;36mMAX_ITEM_LIST_LENGTH\u001b[0m =\u001b[1;33m 50\u001b[0m\n",
            "\u001b[1;36mPOSITION_FIELD\u001b[0m =\u001b[1;33m position_id\u001b[0m\n",
            "\u001b[1;36mHEAD_ENTITY_ID_FIELD\u001b[0m =\u001b[1;33m head_id\u001b[0m\n",
            "\u001b[1;36mTAIL_ENTITY_ID_FIELD\u001b[0m =\u001b[1;33m tail_id\u001b[0m\n",
            "\u001b[1;36mRELATION_ID_FIELD\u001b[0m =\u001b[1;33m relation_id\u001b[0m\n",
            "\u001b[1;36mENTITY_ID_FIELD\u001b[0m =\u001b[1;33m entity_id\u001b[0m\n",
            "\u001b[1;36mbenchmark_filename\u001b[0m =\u001b[1;33m ['train', 'valid', 'test']\u001b[0m\n",
            "\n",
            "\u001b[1;35mOther Hyper Parameters: \n",
            "\u001b[0m\u001b[1;36mwandb_project\u001b[0m = \u001b[1;33mrecbole\u001b[0m\n",
            "\u001b[1;36mrequire_pow\u001b[0m = \u001b[1;33mFalse\u001b[0m\n",
            "\u001b[1;36mMODEL_TYPE\u001b[0m = \u001b[1;33mModelType.SEQUENTIAL\u001b[0m\n",
            "\u001b[1;36membedding_size\u001b[0m = \u001b[1;33m100\u001b[0m\n",
            "\u001b[1;36minner_size\u001b[0m = \u001b[1;33m256\u001b[0m\n",
            "\u001b[1;36mn_layers\u001b[0m = \u001b[1;33m2\u001b[0m\n",
            "\u001b[1;36mn_heads\u001b[0m = \u001b[1;33m2\u001b[0m\n",
            "\u001b[1;36mhidden_dropout_prob\u001b[0m = \u001b[1;33m0.5\u001b[0m\n",
            "\u001b[1;36mattn_dropout_prob\u001b[0m = \u001b[1;33m0.5\u001b[0m\n",
            "\u001b[1;36mhidden_act\u001b[0m = \u001b[1;33mgelu\u001b[0m\n",
            "\u001b[1;36mlayer_norm_eps\u001b[0m = \u001b[1;33m1e-12\u001b[0m\n",
            "\u001b[1;36minitializer_range\u001b[0m = \u001b[1;33m0.02\u001b[0m\n",
            "\u001b[1;36mloss_type\u001b[0m = \u001b[1;33mCE\u001b[0m\n",
            "\u001b[1;36msess_dropout\u001b[0m = \u001b[1;33m0.2\u001b[0m\n",
            "\u001b[1;36mitem_dropout\u001b[0m = \u001b[1;33m0.2\u001b[0m\n",
            "\u001b[1;36mtemperature\u001b[0m = \u001b[1;33m0.07\u001b[0m\n",
            "\u001b[1;36mMODEL_INPUT_TYPE\u001b[0m = \u001b[1;33mInputType.POINTWISE\u001b[0m\n",
            "\u001b[1;36meval_type\u001b[0m = \u001b[1;33mEvaluatorType.RANKING\u001b[0m\n",
            "\u001b[1;36mdevice\u001b[0m = \u001b[1;33mcpu\u001b[0m\n",
            "\u001b[1;36mtrain_neg_sample_args\u001b[0m = \u001b[1;33m{'strategy': 'none'}\u001b[0m\n",
            "\u001b[1;36meval_neg_sample_args\u001b[0m = \u001b[1;33m{'strategy': 'full', 'distribution': 'uniform'}\u001b[0m\n",
            "\n",
            "\u001b[0m\n",
            "\u001b[0m09 Mar 18:38    INFO  \u001b[1;35mtmall\u001b[0m\n",
            "\u001b[1;34mThe number of users\u001b[0m: 427798\n",
            "\u001b[1;34mAverage actions of users\u001b[0m: 1.0\n",
            "\u001b[1;34mThe number of items\u001b[0m: 37367\n",
            "\u001b[1;34mAverage actions of items\u001b[0m: 11.449749752428874\n",
            "\u001b[1;34mThe number of inters\u001b[0m: 427797\n",
            "\u001b[1;34mThe sparsity of the dataset\u001b[0m: 99.99732384814823%\n",
            "\u001b[1;34mRemain Fields\u001b[0m: ['session_id', 'item_id_list', 'item_id', 'item_length']\u001b[0m\n",
            "\u001b[0m09 Mar 18:38    INFO  \u001b[1;35m[Training]: \u001b[0m\u001b[1;36mtrain_batch_size\u001b[0m = \u001b[1;33m[2048]\u001b[0m\u001b[1;36m negative sampling\u001b[0m: \u001b[1;33m[None]\u001b[0m\n",
            "\u001b[0m09 Mar 18:38    INFO  \u001b[1;35m[Evaluation]: \u001b[0m\u001b[1;36meval_batch_size\u001b[0m = \u001b[1;33m[2048]\u001b[0m\u001b[1;36m eval_args\u001b[0m: \u001b[1;33m[{'order': 'TO', 'split': {'RS': [0.8, 0.1, 0.1]}, 'group_by': 'user', 'mode': 'full'}]\u001b[0m\n",
            "\u001b[0m09 Mar 18:38    INFO  COREtrm(\n",
            "  (sess_dropout): Dropout(p=0.2, inplace=False)\n",
            "  (item_dropout): Dropout(p=0.2, inplace=False)\n",
            "  (item_embedding): Embedding(37367, 100, padding_idx=0)\n",
            "  (loss_fct): CrossEntropyLoss()\n",
            "  (net): TransNet(\n",
            "    (position_embedding): Embedding(50, 100)\n",
            "    (trm_encoder): TransformerEncoder(\n",
            "      (layer): ModuleList(\n",
            "        (0): TransformerLayer(\n",
            "          (multi_head_attention): MultiHeadAttention(\n",
            "            (query): Linear(in_features=100, out_features=100, bias=True)\n",
            "            (key): Linear(in_features=100, out_features=100, bias=True)\n",
            "            (value): Linear(in_features=100, out_features=100, bias=True)\n",
            "            (softmax): Softmax(dim=-1)\n",
            "            (attn_dropout): Dropout(p=0.5, inplace=False)\n",
            "            (dense): Linear(in_features=100, out_features=100, bias=True)\n",
            "            (LayerNorm): LayerNorm((100,), eps=1e-12, elementwise_affine=True)\n",
            "            (out_dropout): Dropout(p=0.5, inplace=False)\n",
            "          )\n",
            "          (feed_forward): FeedForward(\n",
            "            (dense_1): Linear(in_features=100, out_features=256, bias=True)\n",
            "            (dense_2): Linear(in_features=256, out_features=100, bias=True)\n",
            "            (LayerNorm): LayerNorm((100,), eps=1e-12, elementwise_affine=True)\n",
            "            (dropout): Dropout(p=0.5, inplace=False)\n",
            "          )\n",
            "        )\n",
            "        (1): TransformerLayer(\n",
            "          (multi_head_attention): MultiHeadAttention(\n",
            "            (query): Linear(in_features=100, out_features=100, bias=True)\n",
            "            (key): Linear(in_features=100, out_features=100, bias=True)\n",
            "            (value): Linear(in_features=100, out_features=100, bias=True)\n",
            "            (softmax): Softmax(dim=-1)\n",
            "            (attn_dropout): Dropout(p=0.5, inplace=False)\n",
            "            (dense): Linear(in_features=100, out_features=100, bias=True)\n",
            "            (LayerNorm): LayerNorm((100,), eps=1e-12, elementwise_affine=True)\n",
            "            (out_dropout): Dropout(p=0.5, inplace=False)\n",
            "          )\n",
            "          (feed_forward): FeedForward(\n",
            "            (dense_1): Linear(in_features=100, out_features=256, bias=True)\n",
            "            (dense_2): Linear(in_features=256, out_features=100, bias=True)\n",
            "            (LayerNorm): LayerNorm((100,), eps=1e-12, elementwise_affine=True)\n",
            "            (dropout): Dropout(p=0.5, inplace=False)\n",
            "          )\n",
            "        )\n",
            "      )\n",
            "    )\n",
            "    (LayerNorm): LayerNorm((100,), eps=1e-12, elementwise_affine=True)\n",
            "    (dropout): Dropout(p=0.5, inplace=False)\n",
            "    (fn): Linear(in_features=100, out_features=1, bias=True)\n",
            "  )\n",
            ")\u001b[1;34m\n",
            "Trainable parameters\u001b[0m: 3926713\u001b[0m\n",
            "\u001b[0m2023-03-09 18:38:20.693582: I tensorflow/core/platform/cpu_feature_guard.cc:193] This TensorFlow binary is optimized with oneAPI Deep Neural Network Library (oneDNN) to use the following CPU instructions in performance-critical operations:  AVX2 FMA\n",
            "To enable them in other operations, rebuild TensorFlow with the appropriate compiler flags.\n",
            "2023-03-09 18:38:22.119253: W tensorflow/compiler/xla/stream_executor/platform/default/dso_loader.cc:64] Could not load dynamic library 'libnvinfer.so.7'; dlerror: libnvinfer.so.7: cannot open shared object file: No such file or directory; LD_LIBRARY_PATH: /usr/local/nvidia/lib:/usr/local/nvidia/lib64\n",
            "2023-03-09 18:38:22.119456: W tensorflow/compiler/xla/stream_executor/platform/default/dso_loader.cc:64] Could not load dynamic library 'libnvinfer_plugin.so.7'; dlerror: libnvinfer_plugin.so.7: cannot open shared object file: No such file or directory; LD_LIBRARY_PATH: /usr/local/nvidia/lib:/usr/local/nvidia/lib64\n",
            "2023-03-09 18:38:22.119484: W tensorflow/compiler/tf2tensorrt/utils/py_utils.cc:38] TF-TRT Warning: Cannot dlopen some TensorRT libraries. If you would like to use Nvidia GPU with TensorRT, please make sure the missing libraries mentioned above are installed properly.\n",
            "\u001b[1;35mTrain     0\u001b[0m: 100%|████████████████████████████████████████████████| 135/135 [27:05<00:00, 12.04s/it]\u001b[0m\u001b[0m\n",
            "\u001b[0m09 Mar 19:05    INFO  \u001b[1;32mepoch 0 training\u001b[0m [\u001b[1;34mtime\u001b[0m: 1625.31s, \u001b[1;34mtrain loss\u001b[0m: 1110.8847]\u001b[0m\n",
            "\u001b[1;35mEvaluate   \u001b[0m: 100%|██████████████████████████████████████████████████| 25/25 [01:55<00:00,  4.61s/it]\u001b[0m\u001b[0m\n",
            "\u001b[0m09 Mar 19:07    INFO  \u001b[1;32mepoch 0 evaluating\u001b[0m [\u001b[1;34mtime\u001b[0m: 115.36s, \u001b[1;34mvalid_score\u001b[0m: 0.181500]\u001b[0m\n",
            "\u001b[0m09 Mar 19:07    INFO  \u001b[1;34mvalid result\u001b[0m: \n",
            "recall@10 : 0.254    recall@20 : 0.2655    mrr@10 : 0.1807    mrr@20 : 0.1815\u001b[0m\n",
            "\u001b[0m09 Mar 19:07    INFO  \u001b[1;34mSaving current\u001b[0m: saved/COREtrm-Mar-09-2023_18-38-23.pth\u001b[0m\n",
            "\u001b[1;35mTrain     1\u001b[0m: 100%|████████████████████████████████████████████████| 135/135 [26:25<00:00, 11.75s/it]\u001b[0m\u001b[0m\n",
            "\u001b[0m09 Mar 19:33    INFO  \u001b[1;32mepoch 1 training\u001b[0m [\u001b[1;34mtime\u001b[0m: 1585.95s, \u001b[1;34mtrain loss\u001b[0m: 936.4430]\u001b[0m\n",
            "\u001b[1;35mEvaluate   \u001b[0m: 100%|██████████████████████████████████████████████████| 25/25 [01:54<00:00,  4.60s/it]\u001b[0m\u001b[0m\n",
            "\u001b[0m09 Mar 19:35    INFO  \u001b[1;32mepoch 1 evaluating\u001b[0m [\u001b[1;34mtime\u001b[0m: 115.04s, \u001b[1;34mvalid_score\u001b[0m: 0.188600]\u001b[0m\n",
            "\u001b[0m09 Mar 19:35    INFO  \u001b[1;34mvalid result\u001b[0m: \n",
            "recall@10 : 0.2787    recall@20 : 0.2972    mrr@10 : 0.1873    mrr@20 : 0.1886\u001b[0m\n",
            "\u001b[0m09 Mar 19:35    INFO  \u001b[1;34mSaving current\u001b[0m: saved/COREtrm-Mar-09-2023_18-38-23.pth\u001b[0m\n",
            "\u001b[1;35mTrain     2\u001b[0m: 100%|████████████████████████████████████████████████| 135/135 [26:55<00:00, 11.97s/it]\u001b[0m\u001b[0m\n",
            "\u001b[0m09 Mar 20:02    INFO  \u001b[1;32mepoch 2 training\u001b[0m [\u001b[1;34mtime\u001b[0m: 1615.69s, \u001b[1;34mtrain loss\u001b[0m: 812.2247]\u001b[0m\n",
            "\u001b[1;35mEvaluate   \u001b[0m: 100%|██████████████████████████████████████████████████| 25/25 [01:57<00:00,  4.68s/it]\u001b[0m\u001b[0m\n",
            "\u001b[0m09 Mar 20:04    INFO  \u001b[1;32mepoch 2 evaluating\u001b[0m [\u001b[1;34mtime\u001b[0m: 117.24s, \u001b[1;34mvalid_score\u001b[0m: 0.192700]\u001b[0m\n",
            "\u001b[0m09 Mar 20:04    INFO  \u001b[1;34mvalid result\u001b[0m: \n",
            "recall@10 : 0.2965    recall@20 : 0.3243    mrr@10 : 0.1908    mrr@20 : 0.1927\u001b[0m\n",
            "\u001b[0m09 Mar 20:04    INFO  \u001b[1;34mSaving current\u001b[0m: saved/COREtrm-Mar-09-2023_18-38-23.pth\u001b[0m\n",
            "\u001b[1;35mTrain     3\u001b[0m: 100%|████████████████████████████████████████████████| 135/135 [26:42<00:00, 11.87s/it]\u001b[0m\u001b[0m\n",
            "\u001b[0m09 Mar 20:31    INFO  \u001b[1;32mepoch 3 training\u001b[0m [\u001b[1;34mtime\u001b[0m: 1602.10s, \u001b[1;34mtrain loss\u001b[0m: 728.5283]\u001b[0m\n",
            "\u001b[1;35mEvaluate   \u001b[0m: 100%|██████████████████████████████████████████████████| 25/25 [02:08<00:00,  5.13s/it]\u001b[0m\u001b[0m\n",
            "\u001b[0m09 Mar 20:33    INFO  \u001b[1;32mepoch 3 evaluating\u001b[0m [\u001b[1;34mtime\u001b[0m: 128.49s, \u001b[1;34mvalid_score\u001b[0m: 0.194300]\u001b[0m\n",
            "\u001b[0m09 Mar 20:33    INFO  \u001b[1;34mvalid result\u001b[0m: \n",
            "recall@10 : 0.3062    recall@20 : 0.3412    mrr@10 : 0.1918    mrr@20 : 0.1943\u001b[0m\n",
            "\u001b[0m09 Mar 20:33    INFO  \u001b[1;34mSaving current\u001b[0m: saved/COREtrm-Mar-09-2023_18-38-23.pth\u001b[0m\n",
            "\u001b[1;35mTrain     4\u001b[0m: 100%|████████████████████████████████████████████████| 135/135 [26:33<00:00, 11.80s/it]\u001b[0m\u001b[0m\n",
            "\u001b[0m09 Mar 21:00    INFO  \u001b[1;32mepoch 4 training\u001b[0m [\u001b[1;34mtime\u001b[0m: 1593.43s, \u001b[1;34mtrain loss\u001b[0m: 672.1104]\u001b[0m\n",
            "\u001b[1;35mEvaluate   \u001b[0m: 100%|██████████████████████████████████████████████████| 25/25 [01:27<00:00,  3.49s/it]\u001b[0m\u001b[0m\n",
            "\u001b[0m09 Mar 21:01    INFO  \u001b[1;32mepoch 4 evaluating\u001b[0m [\u001b[1;34mtime\u001b[0m: 87.38s, \u001b[1;34mvalid_score\u001b[0m: 0.193900]\u001b[0m\n",
            "\u001b[0m09 Mar 21:01    INFO  \u001b[1;34mvalid result\u001b[0m: \n",
            "recall@10 : 0.3103    recall@20 : 0.3513    mrr@10 : 0.191    mrr@20 : 0.1939\u001b[0m\n",
            "\u001b[1;35mTrain     5\u001b[0m: 100%|████████████████████████████████████████████████| 135/135 [26:58<00:00, 11.99s/it]\u001b[0m\u001b[0m\n",
            "\u001b[0m09 Mar 21:28    INFO  \u001b[1;32mepoch 5 training\u001b[0m [\u001b[1;34mtime\u001b[0m: 1618.58s, \u001b[1;34mtrain loss\u001b[0m: 633.4174]\u001b[0m\n",
            "\u001b[1;35mEvaluate   \u001b[0m: 100%|██████████████████████████████████████████████████| 25/25 [01:56<00:00,  4.65s/it]\u001b[0m\u001b[0m\n",
            "\u001b[0m09 Mar 21:30    INFO  \u001b[1;32mepoch 5 evaluating\u001b[0m [\u001b[1;34mtime\u001b[0m: 116.46s, \u001b[1;34mvalid_score\u001b[0m: 0.193200]\u001b[0m\n",
            "\u001b[0m09 Mar 21:30    INFO  \u001b[1;34mvalid result\u001b[0m: \n",
            "recall@10 : 0.3118    recall@20 : 0.3568    mrr@10 : 0.1901    mrr@20 : 0.1932\u001b[0m\n",
            "\u001b[1;35mTrain     6\u001b[0m: 100%|████████████████████████████████████████████████| 135/135 [27:00<00:00, 12.00s/it]\u001b[0m\u001b[0m\n",
            "\u001b[0m09 Mar 21:57    INFO  \u001b[1;32mepoch 6 training\u001b[0m [\u001b[1;34mtime\u001b[0m: 1620.60s, \u001b[1;34mtrain loss\u001b[0m: 605.5390]\u001b[0m\n",
            "\u001b[1;35mEvaluate   \u001b[0m: 100%|██████████████████████████████████████████████████| 25/25 [01:55<00:00,  4.64s/it]\u001b[0m\u001b[0m\n",
            "\u001b[0m09 Mar 21:59    INFO  \u001b[1;32mepoch 6 evaluating\u001b[0m [\u001b[1;34mtime\u001b[0m: 116.09s, \u001b[1;34mvalid_score\u001b[0m: 0.192200]\u001b[0m\n",
            "\u001b[0m09 Mar 21:59    INFO  \u001b[1;34mvalid result\u001b[0m: \n",
            "recall@10 : 0.3123    recall@20 : 0.3602    mrr@10 : 0.1889    mrr@20 : 0.1922\u001b[0m\n",
            "\u001b[1;35mTrain     7\u001b[0m: 100%|████████████████████████████████████████████████| 135/135 [26:28<00:00, 11.77s/it]\u001b[0m\u001b[0m\n",
            "\u001b[0m09 Mar 22:25    INFO  \u001b[1;32mepoch 7 training\u001b[0m [\u001b[1;34mtime\u001b[0m: 1588.88s, \u001b[1;34mtrain loss\u001b[0m: 585.3636]\u001b[0m\n",
            "\u001b[1;35mEvaluate   \u001b[0m: 100%|██████████████████████████████████████████████████| 25/25 [01:57<00:00,  4.72s/it]\u001b[0m\u001b[0m\n",
            "\u001b[0m09 Mar 22:27    INFO  \u001b[1;32mepoch 7 evaluating\u001b[0m [\u001b[1;34mtime\u001b[0m: 118.11s, \u001b[1;34mvalid_score\u001b[0m: 0.191400]\u001b[0m\n",
            "\u001b[0m09 Mar 22:27    INFO  \u001b[1;34mvalid result\u001b[0m: \n",
            "recall@10 : 0.3123    recall@20 : 0.3618    mrr@10 : 0.1879    mrr@20 : 0.1914\u001b[0m\n",
            "\u001b[1;35mTrain     8\u001b[0m: 100%|████████████████████████████████████████████████| 135/135 [26:21<00:00, 11.72s/it]\u001b[0m\u001b[0m\n",
            "\u001b[0m09 Mar 22:54    INFO  \u001b[1;32mepoch 8 training\u001b[0m [\u001b[1;34mtime\u001b[0m: 1581.72s, \u001b[1;34mtrain loss\u001b[0m: 570.5233]\u001b[0m\n",
            "\u001b[1;35mEvaluate   \u001b[0m: 100%|██████████████████████████████████████████████████| 25/25 [01:56<00:00,  4.68s/it]\u001b[0m\u001b[0m\n",
            "\u001b[0m09 Mar 22:56    INFO  \u001b[1;32mepoch 8 evaluating\u001b[0m [\u001b[1;34mtime\u001b[0m: 117.09s, \u001b[1;34mvalid_score\u001b[0m: 0.190500]\u001b[0m\n",
            "\u001b[0m09 Mar 22:56    INFO  \u001b[1;34mvalid result\u001b[0m: \n",
            "recall@10 : 0.3113    recall@20 : 0.3617    mrr@10 : 0.1869    mrr@20 : 0.1905\u001b[0m\n",
            "\u001b[1;35mTrain     9\u001b[0m: 100%|████████████████████████████████████████████████| 135/135 [26:28<00:00, 11.77s/it]\u001b[0m\u001b[0m\n",
            "\u001b[0m09 Mar 23:22    INFO  \u001b[1;32mepoch 9 training\u001b[0m [\u001b[1;34mtime\u001b[0m: 1588.59s, \u001b[1;34mtrain loss\u001b[0m: 558.4080]\u001b[0m\n",
            "\u001b[1;35mEvaluate   \u001b[0m: 100%|██████████████████████████████████████████████████| 25/25 [01:57<00:00,  4.70s/it]\u001b[0m\u001b[0m\n",
            "\u001b[0m09 Mar 23:24    INFO  \u001b[1;32mepoch 9 evaluating\u001b[0m [\u001b[1;34mtime\u001b[0m: 117.62s, \u001b[1;34mvalid_score\u001b[0m: 0.189600]\u001b[0m\n",
            "\u001b[0m09 Mar 23:24    INFO  \u001b[1;34mvalid result\u001b[0m: \n",
            "recall@10 : 0.3103    recall@20 : 0.3625    mrr@10 : 0.186    mrr@20 : 0.1896\u001b[0m\n",
            "\u001b[0m09 Mar 23:24    INFO  Finished training, best eval result in epoch 3\u001b[0m\n",
            "\u001b[0m09 Mar 23:24    INFO  Loading model structure and parameters from saved/COREtrm-Mar-09-2023_18-38-23.pth\u001b[0m\n",
            "\u001b[1;35mEvaluate   \u001b[0m: 100%|██████████████████████████████████████████████████| 50/50 [03:56<00:00,  4.74s/it]\u001b[0m\u001b[0m\n",
            "\u001b[0m09 Mar 23:28    INFO  \u001b[1;33mbest valid \u001b[0m: OrderedDict([('recall@10', 0.3062), ('recall@20', 0.3412), ('mrr@10', 0.1918), ('mrr@20', 0.1943)])\u001b[0m\n",
            "\u001b[0m09 Mar 23:28    INFO  \u001b[1;33mtest result\u001b[0m: OrderedDict([('recall@10', 0.4154), ('recall@20', 0.4443), ('mrr@10', 0.3153), ('mrr@20', 0.3173)])\u001b[0m\n",
            "\u001b[0m\u001b[0m"
          ]
        }
      ]
    }
  ]
}